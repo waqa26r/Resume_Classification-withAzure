{
 "cells": [
  {
   "cell_type": "code",
   "execution_count": null,
   "metadata": {},
   "outputs": [],
   "source": []
  },
  {
   "cell_type": "code",
   "execution_count": null,
   "metadata": {},
   "outputs": [],
   "source": []
  },
  {
   "cell_type": "code",
   "execution_count": null,
   "metadata": {},
   "outputs": [],
   "source": []
  },
  {
   "cell_type": "code",
   "execution_count": 6,
   "metadata": {},
   "outputs": [
    {
     "name": "stdout",
     "output_type": "stream",
     "text": [
      "Requirement already satisfied: pandas in c:\\users\\admin\\appdata\\local\\packages\\pythonsoftwarefoundation.python.3.11_qbz5n2kfra8p0\\localcache\\local-packages\\python311\\site-packages (2.0.1)\n",
      "Requirement already satisfied: azure-storage-blob in c:\\users\\admin\\appdata\\local\\packages\\pythonsoftwarefoundation.python.3.11_qbz5n2kfra8p0\\localcache\\local-packages\\python311\\site-packages (12.16.0)\n",
      "Requirement already satisfied: python-dateutil>=2.8.2 in c:\\users\\admin\\appdata\\local\\packages\\pythonsoftwarefoundation.python.3.11_qbz5n2kfra8p0\\localcache\\local-packages\\python311\\site-packages (from pandas) (2.8.2)\n",
      "Requirement already satisfied: pytz>=2020.1 in c:\\users\\admin\\appdata\\local\\packages\\pythonsoftwarefoundation.python.3.11_qbz5n2kfra8p0\\localcache\\local-packages\\python311\\site-packages (from pandas) (2023.3)\n",
      "Requirement already satisfied: tzdata>=2022.1 in c:\\users\\admin\\appdata\\local\\packages\\pythonsoftwarefoundation.python.3.11_qbz5n2kfra8p0\\localcache\\local-packages\\python311\\site-packages (from pandas) (2023.3)\n",
      "Requirement already satisfied: numpy>=1.21.0 in c:\\users\\admin\\appdata\\local\\packages\\pythonsoftwarefoundation.python.3.11_qbz5n2kfra8p0\\localcache\\local-packages\\python311\\site-packages (from pandas) (1.23.5)\n",
      "Requirement already satisfied: azure-core<2.0.0,>=1.26.0 in c:\\users\\admin\\appdata\\local\\packages\\pythonsoftwarefoundation.python.3.11_qbz5n2kfra8p0\\localcache\\local-packages\\python311\\site-packages (from azure-storage-blob) (1.27.1)\n",
      "Requirement already satisfied: cryptography>=2.1.4 in c:\\users\\admin\\appdata\\local\\packages\\pythonsoftwarefoundation.python.3.11_qbz5n2kfra8p0\\localcache\\local-packages\\python311\\site-packages (from azure-storage-blob) (41.0.1)\n",
      "Requirement already satisfied: typing-extensions>=4.0.1 in c:\\users\\admin\\appdata\\local\\packages\\pythonsoftwarefoundation.python.3.11_qbz5n2kfra8p0\\localcache\\local-packages\\python311\\site-packages (from azure-storage-blob) (4.5.0)\n",
      "Requirement already satisfied: isodate>=0.6.1 in c:\\users\\admin\\appdata\\local\\packages\\pythonsoftwarefoundation.python.3.11_qbz5n2kfra8p0\\localcache\\local-packages\\python311\\site-packages (from azure-storage-blob) (0.6.1)\n",
      "Requirement already satisfied: requests>=2.18.4 in c:\\users\\admin\\appdata\\local\\packages\\pythonsoftwarefoundation.python.3.11_qbz5n2kfra8p0\\localcache\\local-packages\\python311\\site-packages (from azure-core<2.0.0,>=1.26.0->azure-storage-blob) (2.30.0)\n",
      "Requirement already satisfied: six>=1.11.0 in c:\\users\\admin\\appdata\\local\\packages\\pythonsoftwarefoundation.python.3.11_qbz5n2kfra8p0\\localcache\\local-packages\\python311\\site-packages (from azure-core<2.0.0,>=1.26.0->azure-storage-blob) (1.12.0)\n",
      "Requirement already satisfied: cffi>=1.12 in c:\\users\\admin\\appdata\\local\\packages\\pythonsoftwarefoundation.python.3.11_qbz5n2kfra8p0\\localcache\\local-packages\\python311\\site-packages (from cryptography>=2.1.4->azure-storage-blob) (1.15.1)\n",
      "Requirement already satisfied: pycparser in c:\\users\\admin\\appdata\\local\\packages\\pythonsoftwarefoundation.python.3.11_qbz5n2kfra8p0\\localcache\\local-packages\\python311\\site-packages (from cffi>=1.12->cryptography>=2.1.4->azure-storage-blob) (2.21)\n",
      "Requirement already satisfied: charset-normalizer<4,>=2 in c:\\users\\admin\\appdata\\local\\packages\\pythonsoftwarefoundation.python.3.11_qbz5n2kfra8p0\\localcache\\local-packages\\python311\\site-packages (from requests>=2.18.4->azure-core<2.0.0,>=1.26.0->azure-storage-blob) (3.1.0)\n",
      "Requirement already satisfied: idna<4,>=2.5 in c:\\users\\admin\\appdata\\local\\packages\\pythonsoftwarefoundation.python.3.11_qbz5n2kfra8p0\\localcache\\local-packages\\python311\\site-packages (from requests>=2.18.4->azure-core<2.0.0,>=1.26.0->azure-storage-blob) (3.4)\n",
      "Requirement already satisfied: urllib3<3,>=1.21.1 in c:\\users\\admin\\appdata\\local\\packages\\pythonsoftwarefoundation.python.3.11_qbz5n2kfra8p0\\localcache\\local-packages\\python311\\site-packages (from requests>=2.18.4->azure-core<2.0.0,>=1.26.0->azure-storage-blob) (2.0.2)\n",
      "Requirement already satisfied: certifi>=2017.4.17 in c:\\users\\admin\\appdata\\local\\packages\\pythonsoftwarefoundation.python.3.11_qbz5n2kfra8p0\\localcache\\local-packages\\python311\\site-packages (from requests>=2.18.4->azure-core<2.0.0,>=1.26.0->azure-storage-blob) (2022.12.7)\n",
      "Note: you may need to restart the kernel to use updated packages.\n"
     ]
    }
   ],
   "source": [
    "pip install pandas azure-storage-blob\n"
   ]
  },
  {
   "attachments": {},
   "cell_type": "markdown",
   "metadata": {},
   "source": [
    "## Creating conatiner..\n"
   ]
  },
  {
   "cell_type": "code",
   "execution_count": 4,
   "metadata": {},
   "outputs": [
    {
     "name": "stdout",
     "output_type": "stream",
     "text": [
      "Container 'datascie' created successfully.\n",
      "Container 'webdevelop' created successfully.\n",
      "Container 'bigdataanalytics' created successfully.\n"
     ]
    }
   ],
   "source": [
    "from azure.storage.blob import BlobServiceClient\n",
    "\n",
    "connection_string = 'DefaultEndpointsProtocol=https;AccountName=classifiedallfiles;AccountKey=MjjIeHJL/0ajc14wnbMC4mN1Ru4/ewiC/DyG5/LRKzCShri5cHh23B0zPMgPDbDht92FS5mqMI5k+ASt92dDsA==;EndpointSuffix=core.windows.net'\n",
    "container_names = ['datascie','webdevelop','bigdataanalytics']\n",
    "\n",
    "# Create a BlobServiceClient object\n",
    "blob_service_client = BlobServiceClient.from_connection_string(connection_string)\n",
    "\n",
    "# Create containers\n",
    "for container_name in container_names:\n",
    "    container_client = blob_service_client.get_container_client(container_name)\n",
    "    container_client.create_container()\n",
    "    print(f\"Container '{container_name}' created successfully.\")\n"
   ]
  },
  {
   "cell_type": "code",
   "execution_count": null,
   "metadata": {},
   "outputs": [],
   "source": []
  },
  {
   "cell_type": "code",
   "execution_count": null,
   "metadata": {},
   "outputs": [],
   "source": []
  },
  {
   "cell_type": "code",
   "execution_count": null,
   "metadata": {},
   "outputs": [],
   "source": []
  },
  {
   "attachments": {},
   "cell_type": "markdown",
   "metadata": {},
   "source": [
    "## Propper Working code for Storing the classified pdf files into classified conatiners"
   ]
  },
  {
   "cell_type": "code",
   "execution_count": 20,
   "metadata": {},
   "outputs": [
    {
     "name": "stdout",
     "output_type": "stream",
     "text": [
      "Error uploading file 'Nausheen_Aftab_resume.pdf' to container 'dataanalytics': The specified blob already exists.\n",
      "RequestId:b78c928d-b01e-0007-254a-afd777000000\n",
      "Time:2023-07-05T14:10:56.4651613Z\n",
      "ErrorCode:BlobAlreadyExists\n",
      "Content: <?xml version=\"1.0\" encoding=\"utf-8\"?><Error><Code>BlobAlreadyExists</Code><Message>The specified blob already exists.\n",
      "RequestId:b78c928d-b01e-0007-254a-afd777000000\n",
      "Time:2023-07-05T14:10:56.4651613Z</Message></Error>\n",
      "File 'POD Resume_Rohan.pdf' uploaded to container 'webdevelopment' successfully.\n",
      "File 'Resume - Rohini Kanherkar.pdf' uploaded to container 'webdevelopment' successfully.\n",
      "Error uploading file 'Resume - Rohini Kanherkar.pdf' to container 'datascience': The specified blob already exists.\n",
      "RequestId:b78c999b-b01e-0007-4e4a-afd777000000\n",
      "Time:2023-07-05T14:11:00.4828762Z\n",
      "ErrorCode:BlobAlreadyExists\n",
      "Content: <?xml version=\"1.0\" encoding=\"utf-8\"?><Error><Code>BlobAlreadyExists</Code><Message>The specified blob already exists.\n",
      "RequestId:b78c999b-b01e-0007-4e4a-afd777000000\n",
      "Time:2023-07-05T14:11:00.4828762Z</Message></Error>\n",
      "File 'resume_AbhishekNikam_resuem.pdf' uploaded to container 'webdevelopment' successfully.\n",
      "Error uploading file 'resume_AbhishekNikam_resuem.pdf' to container 'datascience': The specified blob already exists.\n",
      "RequestId:b78c9d3e-b01e-0007-524a-afd777000000\n",
      "Time:2023-07-05T14:11:01.1524959Z\n",
      "ErrorCode:BlobAlreadyExists\n",
      "Content: <?xml version=\"1.0\" encoding=\"utf-8\"?><Error><Code>BlobAlreadyExists</Code><Message>The specified blob already exists.\n",
      "RequestId:b78c9d3e-b01e-0007-524a-afd777000000\n",
      "Time:2023-07-05T14:11:01.1524959Z</Message></Error>\n",
      "Error uploading file 'resume_AbhishekNikam_resuem.pdf' to container 'dataanalytics': The specified blob already exists.\n",
      "RequestId:b78c9dcb-b01e-0007-554a-afd777000000\n",
      "Time:2023-07-05T14:11:01.5162889Z\n",
      "ErrorCode:BlobAlreadyExists\n",
      "Content: <?xml version=\"1.0\" encoding=\"utf-8\"?><Error><Code>BlobAlreadyExists</Code><Message>The specified blob already exists.\n",
      "RequestId:b78c9dcb-b01e-0007-554a-afd777000000\n",
      "Time:2023-07-05T14:11:01.5162889Z</Message></Error>\n",
      "File upload completed.\n"
     ]
    }
   ],
   "source": [
    "import os\n",
    "import pandas as pd\n",
    "from azure.storage.blob import BlobServiceClient\n",
    "\n",
    "# Azure Storage connection string\n",
    "connection_string = 'DefaultEndpointsProtocol=https;AccountName=classifieddoc;AccountKey=k3J5D6FBuplTaapJA3ToF0tUnm9U2Z20DgOpDgIit71FqFlmcDJG/4cFowitceDqgS/sAQLErhBd+AStYDmE4g==;EndpointSuffix=core.windows.net'\n",
    "container_mapping = {\n",
    "    'web development': 'webdevelopment',\n",
    "    'data science': 'datascience',\n",
    "    'bigdataanalytics': 'dataanalytics'\n",
    "}\n",
    "\n",
    "\n",
    "# Local directory path containing PDF files\n",
    "local_directory = 'D:\\All_Files_and_Programs\\Internship\\GIthub_files\\ChatBot\\ChatBot\\Daily_Task\\pdf_files'\n",
    "\n",
    "# Excel file path\n",
    "excel_file_path = 'D:\\All_Files_and_Programs\\Internship\\GIthub_files\\ChatBot\\ChatBot\\Daily_Task\\output6.xlsx'\n",
    "\n",
    "# Create a BlobServiceClient object\n",
    "blob_service_client = BlobServiceClient.from_connection_string(connection_string)\n",
    "\n",
    "# Read the Excel file\n",
    "df = pd.read_excel(excel_file_path)\n",
    "\n",
    "# Iterate over the rows in the Excel file\n",
    "for index, row in df.iterrows():\n",
    "    container_label = row['Label']\n",
    "    file_name = row['File']\n",
    "\n",
    "    # Get the corresponding container for the given label\n",
    "    container_name = container_mapping.get(container_label.lower())\n",
    "\n",
    "    if container_name:\n",
    "        # Check if the file exists in the local directory\n",
    "        file_path = os.path.join(local_directory, file_name)\n",
    "        if os.path.isfile(file_path):\n",
    "            # Get the container client\n",
    "            container_client = blob_service_client.get_container_client(container_name)\n",
    "\n",
    "            # Upload the file to the container\n",
    "            with open(file_path, \"rb\") as data:\n",
    "                try:\n",
    "                    container_client.upload_blob(name=file_name, data=data)\n",
    "                    print(f\"File '{file_name}' uploaded to container '{container_name}' successfully.\")\n",
    "                except Exception as e:\n",
    "                    print(f\"Error uploading file '{file_name}' to container '{container_name}': {str(e)}\")\n",
    "        else:\n",
    "            print(f\"File '{file_name}' does not exist in the local directory. Skipping file upload.\")\n",
    "    else:\n",
    "        print(f\"Invalid container label '{container_label}' at index {index}. Skipping file upload.\")\n",
    "\n",
    "print(\"File upload completed.\")\n"
   ]
  },
  {
   "cell_type": "code",
   "execution_count": null,
   "metadata": {},
   "outputs": [],
   "source": []
  },
  {
   "cell_type": "code",
   "execution_count": null,
   "metadata": {},
   "outputs": [],
   "source": []
  },
  {
   "cell_type": "code",
   "execution_count": null,
   "metadata": {},
   "outputs": [],
   "source": []
  },
  {
   "cell_type": "code",
   "execution_count": null,
   "metadata": {},
   "outputs": [],
   "source": []
  },
  {
   "cell_type": "code",
   "execution_count": null,
   "metadata": {},
   "outputs": [],
   "source": []
  },
  {
   "cell_type": "code",
   "execution_count": null,
   "metadata": {},
   "outputs": [],
   "source": []
  },
  {
   "cell_type": "code",
   "execution_count": null,
   "metadata": {},
   "outputs": [],
   "source": []
  },
  {
   "cell_type": "code",
   "execution_count": null,
   "metadata": {},
   "outputs": [],
   "source": []
  },
  {
   "cell_type": "code",
   "execution_count": null,
   "metadata": {},
   "outputs": [],
   "source": []
  }
 ],
 "metadata": {
  "kernelspec": {
   "display_name": "Python 3",
   "language": "python",
   "name": "python3"
  },
  "language_info": {
   "codemirror_mode": {
    "name": "ipython",
    "version": 3
   },
   "file_extension": ".py",
   "mimetype": "text/x-python",
   "name": "python",
   "nbconvert_exporter": "python",
   "pygments_lexer": "ipython3",
   "version": "3.11.4"
  },
  "orig_nbformat": 4
 },
 "nbformat": 4,
 "nbformat_minor": 2
}
