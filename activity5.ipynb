{
 "cells": [
  {
   "cell_type": "code",
   "execution_count": 1,
   "metadata": {},
   "outputs": [
    {
     "name": "stdout",
     "output_type": "stream",
     "text": [
      "Requirement already satisfied: flask in c:\\users\\admin\\appdata\\local\\packages\\pythonsoftwarefoundation.python.3.11_qbz5n2kfra8p0\\localcache\\local-packages\\python311\\site-packages (2.3.2)\n",
      "Requirement already satisfied: azure-storage-blob in c:\\users\\admin\\appdata\\local\\packages\\pythonsoftwarefoundation.python.3.11_qbz5n2kfra8p0\\localcache\\local-packages\\python311\\site-packages (12.16.0)\n",
      "Requirement already satisfied: Werkzeug>=2.3.3 in c:\\users\\admin\\appdata\\local\\packages\\pythonsoftwarefoundation.python.3.11_qbz5n2kfra8p0\\localcache\\local-packages\\python311\\site-packages (from flask) (2.3.3)\n",
      "Requirement already satisfied: Jinja2>=3.1.2 in c:\\users\\admin\\appdata\\local\\packages\\pythonsoftwarefoundation.python.3.11_qbz5n2kfra8p0\\localcache\\local-packages\\python311\\site-packages (from flask) (3.1.2)\n",
      "Requirement already satisfied: itsdangerous>=2.1.2 in c:\\users\\admin\\appdata\\local\\packages\\pythonsoftwarefoundation.python.3.11_qbz5n2kfra8p0\\localcache\\local-packages\\python311\\site-packages (from flask) (2.1.2)\n",
      "Requirement already satisfied: click>=8.1.3 in c:\\users\\admin\\appdata\\local\\packages\\pythonsoftwarefoundation.python.3.11_qbz5n2kfra8p0\\localcache\\local-packages\\python311\\site-packages (from flask) (8.1.3)\n",
      "Requirement already satisfied: blinker>=1.6.2 in c:\\users\\admin\\appdata\\local\\packages\\pythonsoftwarefoundation.python.3.11_qbz5n2kfra8p0\\localcache\\local-packages\\python311\\site-packages (from flask) (1.6.2)\n",
      "Requirement already satisfied: azure-core<2.0.0,>=1.26.0 in c:\\users\\admin\\appdata\\local\\packages\\pythonsoftwarefoundation.python.3.11_qbz5n2kfra8p0\\localcache\\local-packages\\python311\\site-packages (from azure-storage-blob) (1.27.1)\n",
      "Requirement already satisfied: cryptography>=2.1.4 in c:\\users\\admin\\appdata\\local\\packages\\pythonsoftwarefoundation.python.3.11_qbz5n2kfra8p0\\localcache\\local-packages\\python311\\site-packages (from azure-storage-blob) (41.0.1)\n",
      "Requirement already satisfied: typing-extensions>=4.0.1 in c:\\users\\admin\\appdata\\local\\packages\\pythonsoftwarefoundation.python.3.11_qbz5n2kfra8p0\\localcache\\local-packages\\python311\\site-packages (from azure-storage-blob) (4.5.0)\n",
      "Requirement already satisfied: isodate>=0.6.1 in c:\\users\\admin\\appdata\\local\\packages\\pythonsoftwarefoundation.python.3.11_qbz5n2kfra8p0\\localcache\\local-packages\\python311\\site-packages (from azure-storage-blob) (0.6.1)\n",
      "Requirement already satisfied: requests>=2.18.4 in c:\\users\\admin\\appdata\\local\\packages\\pythonsoftwarefoundation.python.3.11_qbz5n2kfra8p0\\localcache\\local-packages\\python311\\site-packages (from azure-core<2.0.0,>=1.26.0->azure-storage-blob) (2.30.0)\n",
      "Requirement already satisfied: six>=1.11.0 in c:\\users\\admin\\appdata\\local\\packages\\pythonsoftwarefoundation.python.3.11_qbz5n2kfra8p0\\localcache\\local-packages\\python311\\site-packages (from azure-core<2.0.0,>=1.26.0->azure-storage-blob) (1.12.0)\n",
      "Requirement already satisfied: colorama in c:\\users\\admin\\appdata\\local\\packages\\pythonsoftwarefoundation.python.3.11_qbz5n2kfra8p0\\localcache\\local-packages\\python311\\site-packages (from click>=8.1.3->flask) (0.4.6)\n",
      "Requirement already satisfied: cffi>=1.12 in c:\\users\\admin\\appdata\\local\\packages\\pythonsoftwarefoundation.python.3.11_qbz5n2kfra8p0\\localcache\\local-packages\\python311\\site-packages (from cryptography>=2.1.4->azure-storage-blob) (1.15.1)\n",
      "Requirement already satisfied: MarkupSafe>=2.0 in c:\\users\\admin\\appdata\\local\\packages\\pythonsoftwarefoundation.python.3.11_qbz5n2kfra8p0\\localcache\\local-packages\\python311\\site-packages (from Jinja2>=3.1.2->flask) (2.1.2)\n",
      "Requirement already satisfied: pycparser in c:\\users\\admin\\appdata\\local\\packages\\pythonsoftwarefoundation.python.3.11_qbz5n2kfra8p0\\localcache\\local-packages\\python311\\site-packages (from cffi>=1.12->cryptography>=2.1.4->azure-storage-blob) (2.21)\n",
      "Requirement already satisfied: charset-normalizer<4,>=2 in c:\\users\\admin\\appdata\\local\\packages\\pythonsoftwarefoundation.python.3.11_qbz5n2kfra8p0\\localcache\\local-packages\\python311\\site-packages (from requests>=2.18.4->azure-core<2.0.0,>=1.26.0->azure-storage-blob) (3.1.0)\n",
      "Requirement already satisfied: idna<4,>=2.5 in c:\\users\\admin\\appdata\\local\\packages\\pythonsoftwarefoundation.python.3.11_qbz5n2kfra8p0\\localcache\\local-packages\\python311\\site-packages (from requests>=2.18.4->azure-core<2.0.0,>=1.26.0->azure-storage-blob) (3.4)\n",
      "Requirement already satisfied: urllib3<3,>=1.21.1 in c:\\users\\admin\\appdata\\local\\packages\\pythonsoftwarefoundation.python.3.11_qbz5n2kfra8p0\\localcache\\local-packages\\python311\\site-packages (from requests>=2.18.4->azure-core<2.0.0,>=1.26.0->azure-storage-blob) (2.0.2)\n",
      "Requirement already satisfied: certifi>=2017.4.17 in c:\\users\\admin\\appdata\\local\\packages\\pythonsoftwarefoundation.python.3.11_qbz5n2kfra8p0\\localcache\\local-packages\\python311\\site-packages (from requests>=2.18.4->azure-core<2.0.0,>=1.26.0->azure-storage-blob) (2022.12.7)\n",
      "Note: you may need to restart the kernel to use updated packages.\n"
     ]
    }
   ],
   "source": [
    "pip install flask azure-storage-blob\n"
   ]
  },
  {
   "cell_type": "code",
   "execution_count": 2,
   "metadata": {},
   "outputs": [],
   "source": [
    "import pandas as pd\n",
    "\n",
    "# Read the Excel file\n",
    "df = pd.read_excel('D:\\All_Files_and_Programs\\Internship\\GIthub_files\\ChatBot\\ChatBot\\Daily_Task\\output6.xlsx')\n"
   ]
  },
  {
   "cell_type": "code",
   "execution_count": 4,
   "metadata": {},
   "outputs": [],
   "source": [
    "labels_to_search = ['webdevelopment', 'datascience']  # List of labels to search\n",
    "\n",
    "# Filter the DataFrame based on labels\n",
    "filtered_df = df[df['Label'].isin(labels_to_search)]\n"
   ]
  },
  {
   "cell_type": "code",
   "execution_count": 5,
   "metadata": {},
   "outputs": [],
   "source": [
    "from azure.storage.blob import BlobServiceClient\n",
    "\n",
    "connection_string = \"DefaultEndpointsProtocol=https;AccountName=classifiedallfiles;AccountKey=MjjIeHJL/0ajc14wnbMC4mN1Ru4/ewiC/DyG5/LRKzCShri5cHh23B0zPMgPDbDht92FS5mqMI5k+ASt92dDsA==;EndpointSuffix=core.windows.net\"\n",
    "container_name_prefix = ''  # Prefix for container name\n",
    "# Create a BlobServiceClient object\n",
    "blob_service_client = BlobServiceClient.from_connection_string(connection_string)\n",
    "\n",
    "# Create containers based on labels\n",
    "for label in labels_to_search:\n",
    "    container_name = container_name_prefix + label\n",
    "\n",
    "    # Create the container if it doesn't already exist\n",
    "    if not blob_service_client.get_container_client(container_name).exists():\n",
    "        blob_service_client.create_container(container_name)\n"
   ]
  },
  {
   "cell_type": "code",
   "execution_count": 1,
   "metadata": {},
   "outputs": [
    {
     "ename": "HttpResponseError",
     "evalue": "The specifed resource name contains invalid characters.\nRequestId:c42f1a89-c01e-0060-802d-b0f9be000000\nTime:2023-07-06T17:16:23.3484844Z\nErrorCode:InvalidResourceName\nContent: <?xml version=\"1.0\" encoding=\"utf-8\"?><Error><Code>InvalidResourceName</Code><Message>The specifed resource name contains invalid characters.\nRequestId:c42f1a89-c01e-0060-802d-b0f9be000000\nTime:2023-07-06T17:16:23.3484844Z</Message></Error>",
     "output_type": "error",
     "traceback": [
      "\u001b[1;31m---------------------------------------------------------------------------\u001b[0m",
      "\u001b[1;31mHttpResponseError\u001b[0m                         Traceback (most recent call last)",
      "Cell \u001b[1;32mIn[1], line 26\u001b[0m\n\u001b[0;32m     23\u001b[0m modified_container_name \u001b[39m=\u001b[39m container_name\u001b[39m.\u001b[39mlower()\u001b[39m.\u001b[39mreplace(\u001b[39m\"\u001b[39m\u001b[39m \u001b[39m\u001b[39m\"\u001b[39m, \u001b[39m\"\u001b[39m\u001b[39m_\u001b[39m\u001b[39m\"\u001b[39m) \u001b[39m+\u001b[39m \u001b[39m\"\u001b[39m\u001b[39m_container\u001b[39m\u001b[39m\"\u001b[39m\n\u001b[0;32m     25\u001b[0m \u001b[39m# Check if the container exists\u001b[39;00m\n\u001b[1;32m---> 26\u001b[0m \u001b[39mif\u001b[39;00m blob_service_client\u001b[39m.\u001b[39;49mget_container_client(modified_container_name)\u001b[39m.\u001b[39;49mexists():\n\u001b[0;32m     27\u001b[0m     \u001b[39m# Delete the existing container\u001b[39;00m\n\u001b[0;32m     28\u001b[0m     blob_service_client\u001b[39m.\u001b[39mdelete_container(modified_container_name)\n\u001b[0;32m     29\u001b[0m     \u001b[39mprint\u001b[39m(\u001b[39mf\u001b[39m\u001b[39m\"\u001b[39m\u001b[39mContainer \u001b[39m\u001b[39m'\u001b[39m\u001b[39m{\u001b[39;00mmodified_container_name\u001b[39m}\u001b[39;00m\u001b[39m'\u001b[39m\u001b[39m already exists. Deleted the existing container.\u001b[39m\u001b[39m\"\u001b[39m)\n",
      "File \u001b[1;32m~\\AppData\\Local\\Packages\\PythonSoftwareFoundation.Python.3.11_qbz5n2kfra8p0\\LocalCache\\local-packages\\Python311\\site-packages\\azure\\core\\tracing\\decorator.py:76\u001b[0m, in \u001b[0;36mdistributed_trace.<locals>.decorator.<locals>.wrapper_use_tracer\u001b[1;34m(*args, **kwargs)\u001b[0m\n\u001b[0;32m     74\u001b[0m span_impl_type \u001b[39m=\u001b[39m settings\u001b[39m.\u001b[39mtracing_implementation()\n\u001b[0;32m     75\u001b[0m \u001b[39mif\u001b[39;00m span_impl_type \u001b[39mis\u001b[39;00m \u001b[39mNone\u001b[39;00m:\n\u001b[1;32m---> 76\u001b[0m     \u001b[39mreturn\u001b[39;00m func(\u001b[39m*\u001b[39;49margs, \u001b[39m*\u001b[39;49m\u001b[39m*\u001b[39;49mkwargs)\n\u001b[0;32m     78\u001b[0m \u001b[39m# Merge span is parameter is set, but only if no explicit parent are passed\u001b[39;00m\n\u001b[0;32m     79\u001b[0m \u001b[39mif\u001b[39;00m merge_span \u001b[39mand\u001b[39;00m \u001b[39mnot\u001b[39;00m passed_in_parent:\n",
      "File \u001b[1;32m~\\AppData\\Local\\Packages\\PythonSoftwareFoundation.Python.3.11_qbz5n2kfra8p0\\LocalCache\\local-packages\\Python311\\site-packages\\azure\\storage\\blob\\_container_client.py:557\u001b[0m, in \u001b[0;36mContainerClient.exists\u001b[1;34m(self, **kwargs)\u001b[0m\n\u001b[0;32m    555\u001b[0m \u001b[39mexcept\u001b[39;00m HttpResponseError \u001b[39mas\u001b[39;00m error:\n\u001b[0;32m    556\u001b[0m     \u001b[39mtry\u001b[39;00m:\n\u001b[1;32m--> 557\u001b[0m         process_storage_error(error)\n\u001b[0;32m    558\u001b[0m     \u001b[39mexcept\u001b[39;00m ResourceNotFoundError:\n\u001b[0;32m    559\u001b[0m         \u001b[39mreturn\u001b[39;00m \u001b[39mFalse\u001b[39;00m\n",
      "File \u001b[1;32m~\\AppData\\Local\\Packages\\PythonSoftwareFoundation.Python.3.11_qbz5n2kfra8p0\\LocalCache\\local-packages\\Python311\\site-packages\\azure\\storage\\blob\\_shared\\response_handlers.py:189\u001b[0m, in \u001b[0;36mprocess_storage_error\u001b[1;34m(storage_error)\u001b[0m\n\u001b[0;32m    186\u001b[0m error\u001b[39m.\u001b[39margs \u001b[39m=\u001b[39m (error\u001b[39m.\u001b[39mmessage,)\n\u001b[0;32m    187\u001b[0m \u001b[39mtry\u001b[39;00m:\n\u001b[0;32m    188\u001b[0m     \u001b[39m# `from None` prevents us from double printing the exception (suppresses generated layer error context)\u001b[39;00m\n\u001b[1;32m--> 189\u001b[0m     exec(\u001b[39m\"\u001b[39;49m\u001b[39mraise error from None\u001b[39;49m\u001b[39m\"\u001b[39;49m)   \u001b[39m# pylint: disable=exec-used # nosec\u001b[39;00m\n\u001b[0;32m    190\u001b[0m \u001b[39mexcept\u001b[39;00m \u001b[39mSyntaxError\u001b[39;00m:\n\u001b[0;32m    191\u001b[0m     \u001b[39mraise\u001b[39;00m error\n",
      "File \u001b[1;32m<string>:1\u001b[0m\n",
      "\u001b[1;31mHttpResponseError\u001b[0m: The specifed resource name contains invalid characters.\nRequestId:c42f1a89-c01e-0060-802d-b0f9be000000\nTime:2023-07-06T17:16:23.3484844Z\nErrorCode:InvalidResourceName\nContent: <?xml version=\"1.0\" encoding=\"utf-8\"?><Error><Code>InvalidResourceName</Code><Message>The specifed resource name contains invalid characters.\nRequestId:c42f1a89-c01e-0060-802d-b0f9be000000\nTime:2023-07-06T17:16:23.3484844Z</Message></Error>"
     ]
    }
   ],
   "source": [
    "import pandas as pd\n",
    "from azure.storage.blob import BlobServiceClient\n",
    "import time\n",
    "\n",
    "# Read the Excel file\n",
    "excel_file_path = r\"D:\\All_Files_and_Programs\\Internship\\GIthub_files\\ChatBot\\ChatBot\\Daily_Task\\output6.xlsx\"\n",
    "df = pd.read_excel(excel_file_path)\n",
    "\n",
    "# Get the labels column from the Excel data\n",
    "labels = df[\"Label\"]\n",
    "\n",
    "# Azure Storage connection string\n",
    "connection_string = \"DefaultEndpointsProtocol=https;AccountName=classifiedallfiles;AccountKey=MjjIeHJL/0ajc14wnbMC4mN1Ru4/ewiC/DyG5/LRKzCShri5cHh23B0zPMgPDbDht92FS5mqMI5k+ASt92dDsA==;EndpointSuffix=core.windows.net\"\n",
    "\n",
    "# Create a BlobServiceClient object\n",
    "blob_service_client = BlobServiceClient.from_connection_string(connection_string)\n",
    "\n",
    "# Iterate over the labels and create containers\n",
    "for label in labels:\n",
    "    container_name = str(label)  # Assuming label is a string\n",
    "    \n",
    "    # Generate a modified container name\n",
    "    modified_container_name = container_name.lower().replace(\" \", \"_\") + \"_container\"\n",
    "    \n",
    "    # Check if the container exists\n",
    "    if blob_service_client.get_container_client(modified_container_name).exists():\n",
    "        # Delete the existing container\n",
    "        blob_service_client.delete_container(modified_container_name)\n",
    "        print(f\"Container '{modified_container_name}' already exists. Deleted the existing container.\")\n",
    "        \n",
    "        # Wait for a short time before creating a new container\n",
    "        time.sleep(5)  # You can adjust the delay time if needed\n",
    "    \n",
    "    # Create the container\n",
    "    container_client = blob_service_client.create_container(modified_container_name)\n",
    "    print(f\"Container '{modified_container_name}' created successfully.\")\n"
   ]
  },
  {
   "cell_type": "code",
   "execution_count": null,
   "metadata": {},
   "outputs": [],
   "source": []
  },
  {
   "cell_type": "code",
   "execution_count": null,
   "metadata": {},
   "outputs": [],
   "source": []
  },
  {
   "cell_type": "code",
   "execution_count": null,
   "metadata": {},
   "outputs": [],
   "source": []
  },
  {
   "cell_type": "code",
   "execution_count": null,
   "metadata": {},
   "outputs": [],
   "source": []
  },
  {
   "cell_type": "code",
   "execution_count": null,
   "metadata": {},
   "outputs": [],
   "source": []
  },
  {
   "attachments": {},
   "cell_type": "markdown",
   "metadata": {},
   "source": [
    "## Uploading pdf by giving localdirectory path"
   ]
  },
  {
   "cell_type": "code",
   "execution_count": 1,
   "metadata": {},
   "outputs": [
    {
     "name": "stdout",
     "output_type": "stream",
     "text": [
      "Uploaded Afshan's Resume.pdf to Azure Storage container.\n",
      "Uploaded Farooqui.pdf to Azure Storage container.\n",
      "Uploaded Nausheen_Aftab_resume.pdf to Azure Storage container.\n",
      "Uploaded POD Resume_Rohan.pdf to Azure Storage container.\n",
      "Uploaded Resume - Rohini Kanherkar.pdf to Azure Storage container.\n",
      "Uploaded resume_AbhishekNikam_resuem.pdf to Azure Storage container.\n",
      "Upload completed.\n"
     ]
    }
   ],
   "source": [
    "import os\n",
    "from azure.storage.blob import BlobServiceClient\n",
    "\n",
    "def upload_to_azure_storage(file_path, container_name):\n",
    "    connection_string = 'DefaultEndpointsProtocol=https;AccountName=classifieddoc;AccountKey=k3J5D6FBuplTaapJA3ToF0tUnm9U2Z20DgOpDgIit71FqFlmcDJG/4cFowitceDqgS/sAQLErhBd+AStYDmE4g==;EndpointSuffix=core.windows.net'\n",
    "    \n",
    "    blob_service_client = BlobServiceClient.from_connection_string(connection_string)\n",
    "    blob_client = blob_service_client.get_blob_client(container=container_name, blob=os.path.basename(file_path))\n",
    "    \n",
    "    with open(file_path, \"rb\") as data:\n",
    "        blob_client.upload_blob(data)\n",
    "\n",
    "# Example usage\n",
    "pdf_directory = \"D:\\All_Files_and_Programs\\Internship\\GIthub_files\\ChatBot\\ChatBot\\Daily_Task\\pdf_files\"  # Replace with the path to your PDF directory\n",
    "container_name ='webwithazure'\n",
    "\n",
    "for filename in os.listdir(pdf_directory):\n",
    "    if filename.endswith(\".pdf\"):\n",
    "        file_path = os.path.join(pdf_directory, filename)\n",
    "        upload_to_azure_storage(file_path, container_name)\n",
    "        print(f\"Uploaded {filename} to Azure Storage container.\")\n",
    "\n",
    "print(\"Upload completed.\")\n"
   ]
  },
  {
   "cell_type": "code",
   "execution_count": null,
   "metadata": {},
   "outputs": [],
   "source": []
  },
  {
   "cell_type": "code",
   "execution_count": null,
   "metadata": {},
   "outputs": [],
   "source": []
  },
  {
   "cell_type": "code",
   "execution_count": null,
   "metadata": {},
   "outputs": [],
   "source": []
  }
 ],
 "metadata": {
  "kernelspec": {
   "display_name": "Python 3",
   "language": "python",
   "name": "python3"
  },
  "language_info": {
   "codemirror_mode": {
    "name": "ipython",
    "version": 3
   },
   "file_extension": ".py",
   "mimetype": "text/x-python",
   "name": "python",
   "nbconvert_exporter": "python",
   "pygments_lexer": "ipython3",
   "version": "3.11.4"
  },
  "orig_nbformat": 4
 },
 "nbformat": 4,
 "nbformat_minor": 2
}
